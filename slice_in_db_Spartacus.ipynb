{
 "cells": [
  {
   "cell_type": "code",
   "execution_count": 1,
   "metadata": {},
   "outputs": [],
   "source": [
    "import pandas as pd\n",
    "import numpy as np\n",
    "\n",
    "def read_DB(db_path):\n",
    "    db_sh = pd.ExcelFile(db_path)\n",
    "    sheets = db_sh.sheet_names\n",
    "    db = pd.read_excel(db_path, sheet_name= sheets, index_col= 0)\n",
    "    # add \n",
    "    for col in sheets:\n",
    "        if col == 'Types':\n",
    "            db[col]['descOrigin'] = db[col]['Type'].astype(str) + ', ' + db[col]['Origin'].astype(str)\n",
    "        elif col == 'References': \n",
    "            db[col]['authorYear'] = db[col]['Author'].astype(str) + ', ' + db[col]['Publication Year'].astype(str)\n",
    "        elif col == 'Country':\n",
    "            db[col]['descOrigin'] = db[col]['Country'].astype(str) + ', ' + db[col]['City'].astype(str)  \n",
    "        elif col == 'Region':\n",
    "            pass\n",
    "        else:\n",
    "            db[col]['descOrigin'] = db[col]['Description'].astype(str) + ', ' + db[col]['Origin'].astype(str)\n",
    "    return db\n"
   ]
  },
  {
   "cell_type": "code",
   "execution_count": null,
   "metadata": {},
   "outputs": [],
   "source": [
    "db_path = r'C:\\GitHub\\suews_prepare_database\\input\\database.xlsx'\n",
    "db_dict = read_DB(db_path)\n",
    "\n",
    "# key is typology code \n",
    "# value is volumetric fraction for specific grid\n",
    "# in this GridID. 0.45 of buildings in grid is typology 128 and .55 is 1210\n",
    "\n",
    "frac_dict = { \n",
    "    128: 0.45, \n",
    "    1210: 0.55}\n",
    "\n",
    "# weights for np.average()\n",
    "weights = list(frac_dict.values())\n",
    "\n",
    "for key in list(frac_dict.keys()):\n",
    "    building_sel = db_dict['Types'].loc[key, 'Buildings']               # retrieve selected typology code\n",
    "    SS_surf = db_dict['NonVeg'].loc[building_sel, 'Spartacus Surface']  # retrieve Spartacus code for typology\n",
    "    SS_surf_sel = db_dict['Spartacus Surface'].loc[[SS_surf]]           # retrieve attributes for selected Spartacus Code\n",
    "    for material in SS_surf_sel.loc[:, SS_surf_sel.columns.str.endswith('Material')]:\n",
    "        material_code = SS_surf_sel.loc[:,material].item()\n",
    "        if material_code != -9999:\n",
    "            SS_material = db_dict['Spartacus Material'].loc[material_code]\n",
    "    \n",
    "# averaged_values = np.average(values_to_blend, weights) #\n"
   ]
  }
 ],
 "metadata": {
  "kernelspec": {
   "display_name": "Python 3",
   "language": "python",
   "name": "python3"
  },
  "language_info": {
   "codemirror_mode": {
    "name": "ipython",
    "version": 3
   },
   "file_extension": ".py",
   "mimetype": "text/x-python",
   "name": "python",
   "nbconvert_exporter": "python",
   "pygments_lexer": "ipython3",
   "version": "3.9.5"
  },
  "orig_nbformat": 4
 },
 "nbformat": 4,
 "nbformat_minor": 2
}
