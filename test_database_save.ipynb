{
 "cells": [
  {
   "cell_type": "code",
   "execution_count": null,
   "metadata": {},
   "outputs": [],
   "source": [
    "import pandas as pd\n",
    "import supy as sp\n",
    "import matplotlib.pyplot as plt\n",
    "\n",
    "\n",
    "# # from Utilities.db_functions import (read_DB, decide_country_or_region, fill_SUEWS_NonVeg, fill_SUEWS_NonVeg_typologies,  fill_SUEWS_Water, \n",
    "#                                      fill_SUEWS_Veg, fill_SUEWS_S now, fill_SUEWS_AnthropogenicEmission, \n",
    "#                                      fill_SUEWS_profiles, blend_SUEWS_NonVeg, save_SUEWS_txt, save_snow, \n",
    "#                                      save_NonVeg_types, save_SiteSelect, presave, read_morph_txt, surf_df_dict)\n",
    "db_path = r'C:\\GitHub\\suews_prepare_database\\Input\\database.xlsx'\n"
   ]
  },
  {
   "cell_type": "code",
   "execution_count": 27,
   "metadata": {},
   "outputs": [],
   "source": [
    "pp = r'C:\\Users\\xbacos\\OneDrive - University of Gothenburg\\Artikel_4\\OUT\\OSept'\n",
    "\n",
    "nonveg_p = pp + '/SUEWS_NonVeg.txt'\n",
    "\n",
    "df_nonveg = pd.read_csv(nonveg_p, skiprows =-2, delimiter='\\t',)\n",
    "\n",
    "\n",
    "veg_p = pp + '/SUEWS_Veg.txt'\n",
    "\n",
    "df_veg = pd.read_csv(veg_p, skiprows =-2, delimiter='\\t')"
   ]
  },
  {
   "cell_type": "code",
   "execution_count": null,
   "metadata": {},
   "outputs": [],
   "source": [
    "len(df_veg.iloc[1,0])"
   ]
  },
  {
   "cell_type": "code",
   "execution_count": null,
   "metadata": {},
   "outputs": [],
   "source": [
    "len(df_nonveg.iloc[1,0])"
   ]
  },
  {
   "cell_type": "code",
   "execution_count": null,
   "metadata": {},
   "outputs": [],
   "source": [
    "df_nonveg"
   ]
  },
  {
   "cell_type": "code",
   "execution_count": null,
   "metadata": {},
   "outputs": [],
   "source": [
    "# Original\n",
    "db_dict= read_DB(db_path)\n"
   ]
  },
  {
   "cell_type": "code",
   "execution_count": 2,
   "metadata": {},
   "outputs": [],
   "source": [
    "in_folder = r'C:\\Users\\xbacos\\OneDrive - University of Gothenburg\\Artikel_4\\OUT'\n",
    "\n",
    "# in_folder = r'C:\\GitHub\\SUEWS_DB_Typology_test\\data\\sample_data'\n",
    "rc = in_folder + '/RunControl.nml'  "
   ]
  },
  {
   "cell_type": "code",
   "execution_count": null,
   "metadata": {},
   "outputs": [],
   "source": [
    "sp.show_version()"
   ]
  },
  {
   "cell_type": "code",
   "execution_count": null,
   "metadata": {},
   "outputs": [],
   "source": [
    "import pandas as pd\n",
    "import supy as sp\n",
    "\n",
    "in_folder = r'C:\\Users\\xbacos\\OneDrive - University of Gothenburg\\Artikel_4\\OUT'\n",
    "\n",
    "# in_folder = r'C:\\GitHub\\SUEWS_DB_Typology_test\\data\\sample_data'\n",
    "rc = in_folder + '/RunControl.nml'  \n",
    "\n",
    "df_state_init = sp.init_supy(rc)"
   ]
  },
  {
   "cell_type": "code",
   "execution_count": null,
   "metadata": {},
   "outputs": [],
   "source": []
  }
 ],
 "metadata": {
  "kernelspec": {
   "display_name": "Python 3",
   "language": "python",
   "name": "python3"
  },
  "language_info": {
   "codemirror_mode": {
    "name": "ipython",
    "version": 3
   },
   "file_extension": ".py",
   "mimetype": "text/x-python",
   "name": "python",
   "nbconvert_exporter": "python",
   "pygments_lexer": "ipython3",
   "version": "3.12.5"
  }
 },
 "nbformat": 4,
 "nbformat_minor": 2
}
