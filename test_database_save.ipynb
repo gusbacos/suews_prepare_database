{
 "cells": [
  {
   "cell_type": "code",
   "execution_count": 1,
   "metadata": {},
   "outputs": [],
   "source": [
    "import pandas as pd\n",
    "import supy as sp\n",
    "import matplotlib.pyplot as plt\n",
    "\n",
    "from .Utilities.db_functions import (read_DB, decide_country_or_region, fill_SUEWS_NonVeg, fill_SUEWS_NonVeg_typologies,  fill_SUEWS_Water, \n",
    "                                     fill_SUEWS_Veg, fill_SUEWS_Snow, fill_SUEWS_AnthropogenicEmission, \n",
    "                                     fill_SUEWS_profiles, blend_SUEWS_NonVeg, save_SUEWS_txt, save_snow, \n",
    "                                     save_NonVeg_types, save_SiteSelect, presave, read_morph_txt, surf_df_dict)\n"
   ]
  },
  {
   "cell_type": "code",
   "execution_count": 5,
   "metadata": {},
   "outputs": [],
   "source": [
    "in_folder = r'C:\\Users\\xbacos\\OneDrive - University of Gothenburg\\Artikel_4\\OUT'\n",
    "rc = in_folder + '/RunControl.nml'  "
   ]
  },
  {
   "cell_type": "code",
   "execution_count": 3,
   "metadata": {},
   "outputs": [
    {
     "name": "stdout",
     "output_type": "stream",
     "text": [
      "SuPy version: 2024.5.24.dev\n",
      "-------------\n"
     ]
    }
   ],
   "source": [
    "sp.show_version()"
   ]
  },
  {
   "cell_type": "code",
   "execution_count": 9,
   "metadata": {},
   "outputs": [
    {
     "name": "stdout",
     "output_type": "stream",
     "text": [
      "2024-09-09 14:23:58,637 - SuPy - INFO - All cache cleared.\n"
     ]
    },
    {
     "ename": "ValueError",
     "evalue": "Length mismatch: Expected axis has 30 elements, new values have 15 elements",
     "output_type": "error",
     "traceback": [
      "\u001b[1;31m---------------------------------------------------------------------------\u001b[0m",
      "\u001b[1;31mValueError\u001b[0m                                Traceback (most recent call last)",
      "Cell \u001b[1;32mIn[9], line 1\u001b[0m\n\u001b[1;32m----> 1\u001b[0m df_state_init \u001b[38;5;241m=\u001b[39m \u001b[43msp\u001b[49m\u001b[38;5;241;43m.\u001b[39;49m\u001b[43minit_supy\u001b[49m\u001b[43m(\u001b[49m\u001b[43mrc\u001b[49m\u001b[43m)\u001b[49m\n",
      "File \u001b[1;32m~\\AppData\\Roaming\\Python\\Python312\\site-packages\\supy\\_supy_module.py:103\u001b[0m, in \u001b[0;36minit_supy\u001b[1;34m(path_init, force_reload, check_input)\u001b[0m\n\u001b[0;32m    100\u001b[0m \u001b[38;5;28;01melse\u001b[39;00m:\n\u001b[0;32m    101\u001b[0m     \u001b[38;5;28;01mif\u001b[39;00m path_init_x\u001b[38;5;241m.\u001b[39msuffix \u001b[38;5;241m==\u001b[39m \u001b[38;5;124m\"\u001b[39m\u001b[38;5;124m.nml\u001b[39m\u001b[38;5;124m\"\u001b[39m:\n\u001b[0;32m    102\u001b[0m         \u001b[38;5;66;03m# SUEWS `RunControl.nml`:\u001b[39;00m\n\u001b[1;32m--> 103\u001b[0m         df_state_init \u001b[38;5;241m=\u001b[39m \u001b[43mload_InitialCond_grid_df\u001b[49m\u001b[43m(\u001b[49m\n\u001b[0;32m    104\u001b[0m \u001b[43m            \u001b[49m\u001b[43mpath_init_x\u001b[49m\u001b[43m,\u001b[49m\n\u001b[0;32m    105\u001b[0m \u001b[43m            \u001b[49m\u001b[43mforce_reload\u001b[49m\u001b[38;5;241;43m=\u001b[39;49m\u001b[43mforce_reload\u001b[49m\u001b[43m,\u001b[49m\n\u001b[0;32m    106\u001b[0m \u001b[43m        \u001b[49m\u001b[43m)\u001b[49m\n\u001b[0;32m    107\u001b[0m     \u001b[38;5;28;01melif\u001b[39;00m path_init_x\u001b[38;5;241m.\u001b[39msuffix \u001b[38;5;241m==\u001b[39m \u001b[38;5;124m\"\u001b[39m\u001b[38;5;124m.csv\u001b[39m\u001b[38;5;124m\"\u001b[39m:\n\u001b[0;32m    108\u001b[0m         \u001b[38;5;66;03m# SuPy `df_state.csv`:\u001b[39;00m\n\u001b[0;32m    109\u001b[0m         df_state_init \u001b[38;5;241m=\u001b[39m load_df_state(path_init_x)\n",
      "File \u001b[1;32m~\\AppData\\Roaming\\Python\\Python312\\site-packages\\supy\\_load.py:1822\u001b[0m, in \u001b[0;36mload_InitialCond_grid_df\u001b[1;34m(path_runcontrol, force_reload)\u001b[0m\n\u001b[0;32m   1820\u001b[0m \u001b[38;5;66;03m# load base df of InitialCond\u001b[39;00m\n\u001b[0;32m   1821\u001b[0m logger_supy\u001b[38;5;241m.\u001b[39mdebug(\u001b[38;5;124m\"\u001b[39m\u001b[38;5;124mloading base df_init...\u001b[39m\u001b[38;5;124m\"\u001b[39m)\n\u001b[1;32m-> 1822\u001b[0m df_init \u001b[38;5;241m=\u001b[39m \u001b[43mload_SUEWS_InitialCond_df\u001b[49m\u001b[43m(\u001b[49m\u001b[43mpath_runcontrol\u001b[49m\u001b[43m)\u001b[49m\n\u001b[0;32m   1823\u001b[0m \u001b[38;5;66;03m# if 'state_surf' in df_init.columns:\u001b[39;00m\n\u001b[0;32m   1824\u001b[0m \u001b[38;5;66;03m#     print('state_surf is in df_init')\u001b[39;00m\n\u001b[0;32m   1825\u001b[0m \n\u001b[0;32m   1826\u001b[0m \u001b[38;5;66;03m# add Initial Condition variables from namelist file\u001b[39;00m\n\u001b[0;32m   1827\u001b[0m logger_supy\u001b[38;5;241m.\u001b[39mdebug(\u001b[38;5;124m\"\u001b[39m\u001b[38;5;124madding initial conditions...\u001b[39m\u001b[38;5;124m\"\u001b[39m)\n",
      "File \u001b[1;32m~\\AppData\\Roaming\\Python\\Python312\\site-packages\\supy\\_load.py:1430\u001b[0m, in \u001b[0;36mload_SUEWS_InitialCond_df\u001b[1;34m(path_runcontrol)\u001b[0m\n\u001b[0;32m   1427\u001b[0m path_input \u001b[38;5;241m=\u001b[39m path_runcontrol\u001b[38;5;241m.\u001b[39mparent \u001b[38;5;241m/\u001b[39m dict_ModConfig[\u001b[38;5;124m\"\u001b[39m\u001b[38;5;124mfileinputpath\u001b[39m\u001b[38;5;124m\"\u001b[39m]\n\u001b[0;32m   1429\u001b[0m logger_supy\u001b[38;5;241m.\u001b[39mdebug(\u001b[38;5;124m\"\u001b[39m\u001b[38;5;124mloading df_gridSurfaceChar\u001b[39m\u001b[38;5;124m\"\u001b[39m)\n\u001b[1;32m-> 1430\u001b[0m df_gridSurfaceChar \u001b[38;5;241m=\u001b[39m \u001b[43mload_SUEWS_SurfaceChar_df\u001b[49m\u001b[43m(\u001b[49m\u001b[43mpath_input\u001b[49m\u001b[43m)\u001b[49m\n\u001b[0;32m   1431\u001b[0m \u001b[38;5;66;03m# df_gridSurfaceChar.to_pickle(\"df_gridSurfaceChar.pkl\")\u001b[39;00m\n\u001b[0;32m   1432\u001b[0m \u001b[38;5;66;03m# logger_supy.debug(\"df_gridSurfaceChar.pkl saved!\")\u001b[39;00m\n\u001b[0;32m   1433\u001b[0m \n\u001b[0;32m   1434\u001b[0m \u001b[38;5;66;03m# only use the first year of each grid as base for initial conditions\u001b[39;00m\n\u001b[0;32m   1435\u001b[0m logger_supy\u001b[38;5;241m.\u001b[39mdebug(\u001b[38;5;124m\"\u001b[39m\u001b[38;5;124mgrouping grids\u001b[39m\u001b[38;5;124m\"\u001b[39m)\n",
      "File \u001b[1;32m~\\AppData\\Roaming\\Python\\Python312\\site-packages\\supy\\_load.py:1189\u001b[0m, in \u001b[0;36mload_SUEWS_SurfaceChar_df\u001b[1;34m(path_input)\u001b[0m\n\u001b[0;32m   1187\u001b[0m \u001b[38;5;129m@functools\u001b[39m\u001b[38;5;241m.\u001b[39mlru_cache(maxsize\u001b[38;5;241m=\u001b[39m\u001b[38;5;241m16\u001b[39m)\n\u001b[0;32m   1188\u001b[0m \u001b[38;5;28;01mdef\u001b[39;00m \u001b[38;5;21mload_SUEWS_SurfaceChar_df\u001b[39m(path_input):\n\u001b[1;32m-> 1189\u001b[0m     df_gridSurfaceChar_exp \u001b[38;5;241m=\u001b[39m \u001b[43mgen_df_gridSurfaceChar_exp\u001b[49m\u001b[43m(\u001b[49m\u001b[43mpath_input\u001b[49m\u001b[43m)\u001b[49m\n\u001b[0;32m   1190\u001b[0m     dict_var_ndim \u001b[38;5;241m=\u001b[39m {\n\u001b[0;32m   1191\u001b[0m         \u001b[38;5;124m\"\u001b[39m\u001b[38;5;124mahprof_24hr\u001b[39m\u001b[38;5;124m\"\u001b[39m: (\u001b[38;5;241m24\u001b[39m, \u001b[38;5;241m2\u001b[39m),\n\u001b[0;32m   1192\u001b[0m         \u001b[38;5;124m\"\u001b[39m\u001b[38;5;124mhumactivity_24hr\u001b[39m\u001b[38;5;124m\"\u001b[39m: (\u001b[38;5;241m24\u001b[39m, \u001b[38;5;241m2\u001b[39m),\n\u001b[1;32m   (...)\u001b[0m\n\u001b[0;32m   1201\u001b[0m         \u001b[38;5;124m\"\u001b[39m\u001b[38;5;124mwuprofm_24hr\u001b[39m\u001b[38;5;124m\"\u001b[39m: (\u001b[38;5;241m24\u001b[39m, \u001b[38;5;241m2\u001b[39m),\n\u001b[0;32m   1202\u001b[0m     }\n\u001b[0;32m   1203\u001b[0m     \u001b[38;5;66;03m# df_gridSurfaceChar_x=df_gridSurfaceChar_exp.copy()\u001b[39;00m\n",
      "File \u001b[1;32m~\\AppData\\Roaming\\Python\\Python312\\site-packages\\supy\\_load.py:1173\u001b[0m, in \u001b[0;36mgen_df_gridSurfaceChar_exp\u001b[1;34m(path_input)\u001b[0m\n\u001b[0;32m   1171\u001b[0m \u001b[38;5;129m@functools\u001b[39m\u001b[38;5;241m.\u001b[39mlru_cache(maxsize\u001b[38;5;241m=\u001b[39m\u001b[38;5;241m16\u001b[39m)\n\u001b[0;32m   1172\u001b[0m \u001b[38;5;28;01mdef\u001b[39;00m \u001b[38;5;21mgen_df_gridSurfaceChar_exp\u001b[39m(path_input):\n\u001b[1;32m-> 1173\u001b[0m     df_siteselect_exp \u001b[38;5;241m=\u001b[39m \u001b[43mgen_df_siteselect_exp\u001b[49m\u001b[43m(\u001b[49m\u001b[43mpath_input\u001b[49m\u001b[43m)\u001b[49m\n\u001b[0;32m   1174\u001b[0m     dict_var_tuple \u001b[38;5;241m=\u001b[39m exp_dict_full(dict_var2SiteSelect)\n\u001b[0;32m   1175\u001b[0m     df_gridSurfaceChar_exp \u001b[38;5;241m=\u001b[39m pd\u001b[38;5;241m.\u001b[39mconcat(\n\u001b[0;32m   1176\u001b[0m         {\n\u001b[0;32m   1177\u001b[0m             k: df_siteselect_exp\u001b[38;5;241m.\u001b[39mloc[:, flatten_list(dict_var_tuple[k])]\n\u001b[1;32m   (...)\u001b[0m\n\u001b[0;32m   1180\u001b[0m         axis\u001b[38;5;241m=\u001b[39m\u001b[38;5;241m1\u001b[39m,\n\u001b[0;32m   1181\u001b[0m     )\n",
      "File \u001b[1;32m~\\AppData\\Roaming\\Python\\Python312\\site-packages\\supy\\_load.py:1047\u001b[0m, in \u001b[0;36mgen_df_siteselect_exp\u001b[1;34m(path_input)\u001b[0m\n\u001b[0;32m   1044\u001b[0m \u001b[38;5;129m@functools\u001b[39m\u001b[38;5;241m.\u001b[39mlru_cache(maxsize\u001b[38;5;241m=\u001b[39m\u001b[38;5;241m16\u001b[39m)\n\u001b[0;32m   1045\u001b[0m \u001b[38;5;28;01mdef\u001b[39;00m \u001b[38;5;21mgen_df_siteselect_exp\u001b[39m(path_input):\n\u001b[0;32m   1046\u001b[0m     \u001b[38;5;66;03m# df with all code-references values\u001b[39;00m\n\u001b[1;32m-> 1047\u001b[0m     df_all_code \u001b[38;5;241m=\u001b[39m \u001b[43mgen_all_code_df\u001b[49m\u001b[43m(\u001b[49m\u001b[43mpath_input\u001b[49m\u001b[43m)\u001b[49m\n\u001b[0;32m   1049\u001b[0m     \u001b[38;5;66;03m# retrieve all `Code`-relaed names\u001b[39;00m\n\u001b[0;32m   1050\u001b[0m     dict_libs \u001b[38;5;241m=\u001b[39m load_SUEWS_Libs(path_input)\n",
      "File \u001b[1;32m~\\AppData\\Roaming\\Python\\Python312\\site-packages\\supy\\_load.py:979\u001b[0m, in \u001b[0;36mgen_all_code_df\u001b[1;34m(path_input)\u001b[0m\n\u001b[0;32m    971\u001b[0m dict_code_var \u001b[38;5;241m=\u001b[39m {\n\u001b[0;32m    972\u001b[0m     code: gather_code_set(code, dict_var2SiteSelect)\n\u001b[0;32m    973\u001b[0m     \u001b[38;5;28;01mfor\u001b[39;00m code \u001b[38;5;129;01min\u001b[39;00m list_code\n\u001b[0;32m    974\u001b[0m     \u001b[38;5;28;01mif\u001b[39;00m \u001b[38;5;28mlen\u001b[39m(gather_code_set(code, dict_var2SiteSelect)) \u001b[38;5;241m>\u001b[39m \u001b[38;5;241m0\u001b[39m\n\u001b[0;32m    975\u001b[0m }\n\u001b[0;32m    977\u001b[0m \u001b[38;5;66;03m# stage one expansion\u001b[39;00m\n\u001b[0;32m    978\u001b[0m df_all_code \u001b[38;5;241m=\u001b[39m pd\u001b[38;5;241m.\u001b[39mconcat(\n\u001b[1;32m--> 979\u001b[0m     [\u001b[43mbuild_code_df\u001b[49m\u001b[43m(\u001b[49m\u001b[43mcode\u001b[49m\u001b[43m,\u001b[49m\u001b[43m \u001b[49m\u001b[43mpath_input\u001b[49m\u001b[43m,\u001b[49m\u001b[43m \u001b[49m\u001b[43mdf_siteselect\u001b[49m\u001b[43m)\u001b[49m \u001b[38;5;28;01mfor\u001b[39;00m code \u001b[38;5;129;01min\u001b[39;00m dict_code_var],\n\u001b[0;32m    980\u001b[0m     axis\u001b[38;5;241m=\u001b[39m\u001b[38;5;241m1\u001b[39m,\n\u001b[0;32m    981\u001b[0m )\n\u001b[0;32m    983\u001b[0m \u001b[38;5;28;01mreturn\u001b[39;00m df_all_code\n",
      "File \u001b[1;32m~\\AppData\\Roaming\\Python\\Python312\\site-packages\\supy\\_load.py:951\u001b[0m, in \u001b[0;36mbuild_code_df\u001b[1;34m(code, path_input, df_base)\u001b[0m\n\u001b[0;32m    945\u001b[0m     logger_supy\u001b[38;5;241m.\u001b[39mexception(\n\u001b[0;32m    946\u001b[0m         \u001b[38;5;124mf\u001b[39m\u001b[38;5;124m\"\u001b[39m\u001b[38;5;124m`df_code0` has been dumped into \u001b[39m\u001b[38;5;132;01m{\u001b[39;00mpath_dump\u001b[38;5;241m.\u001b[39mresolve()\u001b[38;5;132;01m}\u001b[39;00m\u001b[38;5;124m for debugging!\u001b[39m\u001b[38;5;124m\"\u001b[39m\n\u001b[0;32m    947\u001b[0m     )\n\u001b[0;32m    949\u001b[0m     \u001b[38;5;28;01mraise\u001b[39;00m e\n\u001b[1;32m--> 951\u001b[0m \u001b[43mdf_code\u001b[49m\u001b[38;5;241;43m.\u001b[39;49m\u001b[43mindex\u001b[49m \u001b[38;5;241m=\u001b[39m df_base\u001b[38;5;241m.\u001b[39mindex\n\u001b[0;32m    952\u001b[0m \u001b[38;5;66;03m# recover outmost level code if profile values are extracted\u001b[39;00m\n\u001b[0;32m    953\u001b[0m \u001b[38;5;28;01mif\u001b[39;00m keys_code \u001b[38;5;241m==\u001b[39m {\u001b[38;5;124m\"\u001b[39m\u001b[38;5;124m:\u001b[39m\u001b[38;5;124m\"\u001b[39m}:\n",
      "File \u001b[1;32mC:\\OSGeo4W\\apps\\Python312\\Lib\\site-packages\\pandas\\core\\generic.py:6313\u001b[0m, in \u001b[0;36mNDFrame.__setattr__\u001b[1;34m(self, name, value)\u001b[0m\n\u001b[0;32m   6311\u001b[0m \u001b[38;5;28;01mtry\u001b[39;00m:\n\u001b[0;32m   6312\u001b[0m     \u001b[38;5;28mobject\u001b[39m\u001b[38;5;241m.\u001b[39m\u001b[38;5;21m__getattribute__\u001b[39m(\u001b[38;5;28mself\u001b[39m, name)\n\u001b[1;32m-> 6313\u001b[0m     \u001b[38;5;28;01mreturn\u001b[39;00m \u001b[38;5;28;43mobject\u001b[39;49m\u001b[38;5;241;43m.\u001b[39;49m\u001b[38;5;21;43m__setattr__\u001b[39;49m\u001b[43m(\u001b[49m\u001b[38;5;28;43mself\u001b[39;49m\u001b[43m,\u001b[49m\u001b[43m \u001b[49m\u001b[43mname\u001b[49m\u001b[43m,\u001b[49m\u001b[43m \u001b[49m\u001b[43mvalue\u001b[49m\u001b[43m)\u001b[49m\n\u001b[0;32m   6314\u001b[0m \u001b[38;5;28;01mexcept\u001b[39;00m \u001b[38;5;167;01mAttributeError\u001b[39;00m:\n\u001b[0;32m   6315\u001b[0m     \u001b[38;5;28;01mpass\u001b[39;00m\n",
      "File \u001b[1;32mproperties.pyx:69\u001b[0m, in \u001b[0;36mpandas._libs.properties.AxisProperty.__set__\u001b[1;34m()\u001b[0m\n",
      "File \u001b[1;32mC:\\OSGeo4W\\apps\\Python312\\Lib\\site-packages\\pandas\\core\\generic.py:814\u001b[0m, in \u001b[0;36mNDFrame._set_axis\u001b[1;34m(self, axis, labels)\u001b[0m\n\u001b[0;32m    809\u001b[0m \u001b[38;5;250m\u001b[39m\u001b[38;5;124;03m\"\"\"\u001b[39;00m\n\u001b[0;32m    810\u001b[0m \u001b[38;5;124;03mThis is called from the cython code when we set the `index` attribute\u001b[39;00m\n\u001b[0;32m    811\u001b[0m \u001b[38;5;124;03mdirectly, e.g. `series.index = [1, 2, 3]`.\u001b[39;00m\n\u001b[0;32m    812\u001b[0m \u001b[38;5;124;03m\"\"\"\u001b[39;00m\n\u001b[0;32m    813\u001b[0m labels \u001b[38;5;241m=\u001b[39m ensure_index(labels)\n\u001b[1;32m--> 814\u001b[0m \u001b[38;5;28;43mself\u001b[39;49m\u001b[38;5;241;43m.\u001b[39;49m\u001b[43m_mgr\u001b[49m\u001b[38;5;241;43m.\u001b[39;49m\u001b[43mset_axis\u001b[49m\u001b[43m(\u001b[49m\u001b[43maxis\u001b[49m\u001b[43m,\u001b[49m\u001b[43m \u001b[49m\u001b[43mlabels\u001b[49m\u001b[43m)\u001b[49m\n\u001b[0;32m    815\u001b[0m \u001b[38;5;28mself\u001b[39m\u001b[38;5;241m.\u001b[39m_clear_item_cache()\n",
      "File \u001b[1;32mC:\\OSGeo4W\\apps\\Python312\\Lib\\site-packages\\pandas\\core\\internals\\managers.py:238\u001b[0m, in \u001b[0;36mBaseBlockManager.set_axis\u001b[1;34m(self, axis, new_labels)\u001b[0m\n\u001b[0;32m    236\u001b[0m \u001b[38;5;28;01mdef\u001b[39;00m \u001b[38;5;21mset_axis\u001b[39m(\u001b[38;5;28mself\u001b[39m, axis: AxisInt, new_labels: Index) \u001b[38;5;241m-\u001b[39m\u001b[38;5;241m>\u001b[39m \u001b[38;5;28;01mNone\u001b[39;00m:\n\u001b[0;32m    237\u001b[0m     \u001b[38;5;66;03m# Caller is responsible for ensuring we have an Index object.\u001b[39;00m\n\u001b[1;32m--> 238\u001b[0m     \u001b[38;5;28;43mself\u001b[39;49m\u001b[38;5;241;43m.\u001b[39;49m\u001b[43m_validate_set_axis\u001b[49m\u001b[43m(\u001b[49m\u001b[43maxis\u001b[49m\u001b[43m,\u001b[49m\u001b[43m \u001b[49m\u001b[43mnew_labels\u001b[49m\u001b[43m)\u001b[49m\n\u001b[0;32m    239\u001b[0m     \u001b[38;5;28mself\u001b[39m\u001b[38;5;241m.\u001b[39maxes[axis] \u001b[38;5;241m=\u001b[39m new_labels\n",
      "File \u001b[1;32mC:\\OSGeo4W\\apps\\Python312\\Lib\\site-packages\\pandas\\core\\internals\\base.py:98\u001b[0m, in \u001b[0;36mDataManager._validate_set_axis\u001b[1;34m(self, axis, new_labels)\u001b[0m\n\u001b[0;32m     95\u001b[0m     \u001b[38;5;28;01mpass\u001b[39;00m\n\u001b[0;32m     97\u001b[0m \u001b[38;5;28;01melif\u001b[39;00m new_len \u001b[38;5;241m!=\u001b[39m old_len:\n\u001b[1;32m---> 98\u001b[0m     \u001b[38;5;28;01mraise\u001b[39;00m \u001b[38;5;167;01mValueError\u001b[39;00m(\n\u001b[0;32m     99\u001b[0m         \u001b[38;5;124mf\u001b[39m\u001b[38;5;124m\"\u001b[39m\u001b[38;5;124mLength mismatch: Expected axis has \u001b[39m\u001b[38;5;132;01m{\u001b[39;00mold_len\u001b[38;5;132;01m}\u001b[39;00m\u001b[38;5;124m elements, new \u001b[39m\u001b[38;5;124m\"\u001b[39m\n\u001b[0;32m    100\u001b[0m         \u001b[38;5;124mf\u001b[39m\u001b[38;5;124m\"\u001b[39m\u001b[38;5;124mvalues have \u001b[39m\u001b[38;5;132;01m{\u001b[39;00mnew_len\u001b[38;5;132;01m}\u001b[39;00m\u001b[38;5;124m elements\u001b[39m\u001b[38;5;124m\"\u001b[39m\n\u001b[0;32m    101\u001b[0m     )\n",
      "\u001b[1;31mValueError\u001b[0m: Length mismatch: Expected axis has 30 elements, new values have 15 elements"
     ]
    }
   ],
   "source": [
    "\n",
    "df_state_init = sp.init_supy(rc)"
   ]
  },
  {
   "cell_type": "code",
   "execution_count": null,
   "metadata": {},
   "outputs": [],
   "source": []
  }
 ],
 "metadata": {
  "kernelspec": {
   "display_name": "Python 3",
   "language": "python",
   "name": "python3"
  },
  "language_info": {
   "codemirror_mode": {
    "name": "ipython",
    "version": 3
   },
   "file_extension": ".py",
   "mimetype": "text/x-python",
   "name": "python",
   "nbconvert_exporter": "python",
   "pygments_lexer": "ipython3",
   "version": "3.12.5"
  }
 },
 "nbformat": 4,
 "nbformat_minor": 2
}
